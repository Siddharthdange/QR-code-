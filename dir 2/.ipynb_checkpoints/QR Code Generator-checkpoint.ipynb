{
 "cells": [
  {
   "cell_type": "code",
   "execution_count": 8,
   "metadata": {},
   "outputs": [],
   "source": [
    "from tkinter import *\n",
    "from tkinter import messagebox \n",
    "import pyqrcode\n",
    "\n",
    "import os"
   ]
  },
  {
   "cell_type": "code",
   "execution_count": 9,
   "metadata": {},
   "outputs": [],
   "source": [
    "window = Tk()\n",
    "window.title(\"QR Code Genrator\")\n",
    "\n",
    "def generate():\n",
    "    if len(subject.get()) != 0:\n",
    "        \n",
    "        global myQr\n",
    "        myQr = pyqrcode.create(subject.get())\n",
    "        qrImage = myQr.xbm(scale = 6)\n",
    "        global photo\n",
    "        photo = BitmapImage(data=qrImage)\n",
    "    else:\n",
    "         messagebox.showinfo(\"Error!\",\"Please enter the subject \")\n",
    "    try:\n",
    "        showcode()\n",
    "    except:\n",
    "        pass"
   ]
  },
  {
   "cell_type": "code",
   "execution_count": 10,
   "metadata": {},
   "outputs": [],
   "source": [
    "def showcode():\n",
    "    global photo\n",
    "    notificationLabel.config(image=photo)\n",
    "    subLabel.config(texts=\"Showing QR Code for: \"+ subject.get())\n",
    "\n",
    "def save():\n",
    "    dir = path1 = os.getcwd() + \"\\\\QRCodes\"\n",
    "    if not os.path.exists(dir):\n",
    "        os.makedirs(dir)\n",
    "    try:\n",
    "        if len(name.get()) != 0:\n",
    "            qrImage = myQr.png(os.path.join(dir,name.get()+\".png\"),scale = 6)\n",
    "        else:\n",
    "            messagebox.showinfo(\"Error!\",\"File name can not be empty\")\n",
    "    except:\n",
    "        messagebox.showinfo(\"Error!\",\"please generate the code firsts\")"
   ]
  },
  {
   "cell_type": "code",
   "execution_count": 11,
   "metadata": {},
   "outputs": [],
   "source": [
    "lab1 = Label(window,text=\"Enter Subject\",font=(\"Helvetica\",12))\n",
    "lab1.grid(row=0,column=0,sticky=N + S+ E + W)\n",
    "\n",
    "lab2 = Label(window,text=\"Enter File name\",font=(\"Helvetica\",12))\n",
    "lab2.grid(row=1,column=0,sticky=N + S+ E + W)\n",
    "\n"
   ]
  },
  {
   "cell_type": "code",
   "execution_count": 15,
   "metadata": {},
   "outputs": [],
   "source": [
    "subject =  StringVar()\n",
    "subjectEntry = Entry(window,textvariable=subject,font=(\"Helvetica\",12))\n",
    "subjectEntry.grid(row=0,column=1,sticky=N +S+E+W)\n",
    "\n",
    "name = StringVar()\n",
    "nameEntry = Entry(window,textvariable=name,font=('Helvetica',12))\n",
    "nameEntry.grid(row=1,column=1,sticky=N+S+E+W)\n",
    "\n",
    "createButton = Button(window, text=\"Create QR code\",font=(\"Helvetica\",12),width=15,command=generate)\n",
    "createButton.grid(row=0,column=3,sticky=N + S + E + W)\n",
    "notificationLabel = Label(window)\n",
    "notificationLabel.grid(row=2,column = 1 ,sticky=N + S + E + W)\n",
    "\n",
    "subLabel = Label(window,text=\"\")\n",
    "subLabel.grid(row=3,column=1,sticky=N+ S + E + W)\n",
    "\n",
    "showButton = Button(window,text=\"Save as png\",font=(\"Helvetica\",12),width = 15,command = save)\n",
    "showButton.grid(row=1,column = 3,sticky=N + S + E + W)"
   ]
  },
  {
   "cell_type": "code",
   "execution_count": 18,
   "metadata": {},
   "outputs": [],
   "source": [
    "totalRows = 3\n",
    "totalCols = 3\n",
    "for row in range(totalRows + 1):\n",
    "    window.grid_rowconfigure(row,weight = 1)\n",
    "for col in range(totalCols + 1):\n",
    "    window.grid_columnconfigure(col,weight = 1)\n",
    "    \n",
    "window.mainloop()"
   ]
  },
  {
   "cell_type": "code",
   "execution_count": null,
   "metadata": {},
   "outputs": [],
   "source": []
  }
 ],
 "metadata": {
  "kernelspec": {
   "display_name": "Python 3",
   "language": "python",
   "name": "python3"
  },
  "language_info": {
   "codemirror_mode": {
    "name": "ipython",
    "version": 3
   },
   "file_extension": ".py",
   "mimetype": "text/x-python",
   "name": "python",
   "nbconvert_exporter": "python",
   "pygments_lexer": "ipython3",
   "version": "3.8.0"
  }
 },
 "nbformat": 4,
 "nbformat_minor": 4
}
